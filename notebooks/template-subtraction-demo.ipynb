{
 "cells": [
  {
   "cell_type": "code",
   "execution_count": null,
   "id": "24a048fe",
   "metadata": {},
   "outputs": [],
   "source": [
    "import spikeinterface.full as si"
   ]
  },
  {
   "cell_type": "code",
   "execution_count": null,
   "id": "081b5429",
   "metadata": {},
   "outputs": [],
   "source": [
    "%matplotlib widget"
   ]
  },
  {
   "cell_type": "markdown",
   "id": "e7f6a5c8",
   "metadata": {},
   "source": [
    "### Use simulated data for now"
   ]
  },
  {
   "cell_type": "code",
   "execution_count": null,
   "id": "bde31f18",
   "metadata": {},
   "outputs": [],
   "source": [
    "rec, sort = si.generate_ground_truth_recording(durations=[60], num_channels=128, num_units=50)"
   ]
  },
  {
   "cell_type": "code",
   "execution_count": null,
   "id": "fc76b527",
   "metadata": {},
   "outputs": [],
   "source": [
    "si.plot_probe_map(rec)"
   ]
  },
  {
   "cell_type": "code",
   "execution_count": null,
   "id": "96335ae8",
   "metadata": {},
   "outputs": [],
   "source": [
    "si.plot_traces(rec, backend=\"ipywidgets\")"
   ]
  },
  {
   "cell_type": "markdown",
   "id": "72fd961a",
   "metadata": {},
   "source": [
    "### Extract waveforms"
   ]
  },
  {
   "cell_type": "markdown",
   "id": "981e7241",
   "metadata": {},
   "source": [
    "Start with simulated data"
   ]
  },
  {
   "cell_type": "code",
   "execution_count": null,
   "id": "8722fcbb",
   "metadata": {},
   "outputs": [],
   "source": [
    "we = si.extract_waveforms(rec, sort, folder=None, mode=\"memory\", n_jobs=-1)"
   ]
  },
  {
   "cell_type": "markdown",
   "id": "e69a7937",
   "metadata": {},
   "source": [
    "### Get spike scalings"
   ]
  },
  {
   "cell_type": "code",
   "execution_count": null,
   "id": "b35bd0ee",
   "metadata": {},
   "outputs": [],
   "source": [
    "amp_scalings = si.compute_amplitude_scalings(we)"
   ]
  },
  {
   "cell_type": "markdown",
   "id": "1b0f689e",
   "metadata": {},
   "source": [
    "## Get residuals"
   ]
  },
  {
   "cell_type": "code",
   "execution_count": null,
   "id": "d55c15aa",
   "metadata": {},
   "outputs": [],
   "source": [
    "all_templates = we.get_all_templates()"
   ]
  },
  {
   "cell_type": "code",
   "execution_count": null,
   "id": "e2130bb1",
   "metadata": {},
   "outputs": [],
   "source": [
    "residuals_w_scaling = si.InjectTemplatesRecording(\n",
    "    sorting=sort,\n",
    "    templates=-all_templates,\n",
    "    amplitude_factor=amp_scalings,\n",
    "    parent_recording=rec\n",
    ")\n",
    "residuals_wout_scaling = si.InjectTemplatesRecording(\n",
    "    sorting=sort,\n",
    "    templates=-all_templates,\n",
    "    amplitude_factor=None,\n",
    "    parent_recording=rec\n",
    ")"
   ]
  },
  {
   "cell_type": "code",
   "execution_count": null,
   "id": "07921ee0",
   "metadata": {},
   "outputs": [],
   "source": [
    "rec_dict = dict(\n",
    "    original=rec,\n",
    "    residuals_w=residuals_w_scaling,\n",
    "    residuals_wout=residuals_wout_scaling\n",
    ")"
   ]
  },
  {
   "cell_type": "code",
   "execution_count": null,
   "id": "52239a37",
   "metadata": {},
   "outputs": [],
   "source": [
    "si.plot_traces(rec_dict, backend=\"ipywidgets\")"
   ]
  },
  {
   "cell_type": "markdown",
   "id": "e6d2c407",
   "metadata": {},
   "source": [
    "# Use a local NWB file"
   ]
  },
  {
   "cell_type": "code",
   "execution_count": null,
   "id": "ac1cef38",
   "metadata": {},
   "outputs": [],
   "source": [
    "recording = si.read_nwb_recording(\n",
    "    \"/home/alessio/Documents/Data/IBL/sub-CSHL045_ses-46794e05-3f6a-4d35-afb3-9165091a5a74_behavior+ecephys+image.nwb\",\n",
    "    electrical_series_path=\"acquisition/ElectricalSeriesAp\"\n",
    ")"
   ]
  },
  {
   "cell_type": "code",
   "execution_count": null,
   "id": "6d296330",
   "metadata": {},
   "outputs": [],
   "source": [
    "recording"
   ]
  },
  {
   "cell_type": "code",
   "execution_count": null,
   "id": "f000a6dc",
   "metadata": {},
   "outputs": [],
   "source": [
    "sorting = si.read_nwb_sorting(\n",
    "    \"/home/alessio/Documents/Data/IBL/sub-CSHL045_ses-46794e05-3f6a-4d35-afb3-9165091a5a74_behavior+ecephys+image.nwb\",\n",
    "    electrical_series_path=\"acquisition/ElectricalSeriesAp\"\n",
    ")"
   ]
  },
  {
   "cell_type": "code",
   "execution_count": null,
   "id": "e2fd1e32",
   "metadata": {},
   "outputs": [],
   "source": [
    "sorting"
   ]
  },
  {
   "cell_type": "code",
   "execution_count": null,
   "id": "2e38b422",
   "metadata": {},
   "outputs": [],
   "source": [
    "clip_minutes = 5"
   ]
  },
  {
   "cell_type": "code",
   "execution_count": null,
   "id": "133010ac",
   "metadata": {},
   "outputs": [],
   "source": [
    "sampling_frequency = recording.sampling_frequency"
   ]
  },
  {
   "cell_type": "code",
   "execution_count": null,
   "id": "51a79275",
   "metadata": {},
   "outputs": [],
   "source": [
    "start_time = 1200\n",
    "start_frame = int(start_time * sampling_frequency)\n",
    "end_frame = int((start_time + clip_minutes * 60)* sampling_frequency)"
   ]
  },
  {
   "cell_type": "code",
   "execution_count": null,
   "id": "de1183ac",
   "metadata": {},
   "outputs": [],
   "source": [
    "recording_c = recording.frame_slice(start_frame, end_frame)\n",
    "sorting_c = sorting.frame_slice(start_frame, end_frame)"
   ]
  },
  {
   "cell_type": "code",
   "execution_count": null,
   "id": "806d5eb0",
   "metadata": {},
   "outputs": [],
   "source": []
  },
  {
   "cell_type": "code",
   "execution_count": null,
   "id": "30c11dc5",
   "metadata": {},
   "outputs": [],
   "source": [
    "recording_processed = si.highpass_filter(recording_c)\n",
    "recording_processed = si.common_reference(recording_processed)"
   ]
  },
  {
   "cell_type": "code",
   "execution_count": null,
   "id": "45031d92",
   "metadata": {},
   "outputs": [],
   "source": [
    "we = si.extract_waveforms(recording_processed, sorting_c, mode=\"memory\", n_jobs=-1)"
   ]
  },
  {
   "cell_type": "code",
   "execution_count": null,
   "id": "144ae36f",
   "metadata": {},
   "outputs": [],
   "source": [
    "len(we.unit_ids)"
   ]
  },
  {
   "cell_type": "code",
   "execution_count": null,
   "id": "7eac7fcd",
   "metadata": {},
   "outputs": [],
   "source": [
    "si.plot_rasters(sorting_c)"
   ]
  },
  {
   "cell_type": "code",
   "execution_count": null,
   "id": "b70c26f8",
   "metadata": {},
   "outputs": [],
   "source": [
    "amp_scalings = si.compute_amplitude_scalings(we)"
   ]
  },
  {
   "cell_type": "code",
   "execution_count": null,
   "id": "a4ed6dc1",
   "metadata": {},
   "outputs": [],
   "source": [
    "sorting_c.get_property_keys()"
   ]
  },
  {
   "cell_type": "code",
   "execution_count": null,
   "id": "dd9aa673",
   "metadata": {},
   "outputs": [],
   "source": [
    "recording_scaled = si.scale(recording_processed, gain=recording.get_channel_gains(), dtype=\"float32\")"
   ]
  },
  {
   "cell_type": "code",
   "execution_count": null,
   "id": "10d14b4f",
   "metadata": {},
   "outputs": [],
   "source": [
    "all_templates = we.get_all_templates()"
   ]
  },
  {
   "cell_type": "code",
   "execution_count": null,
   "id": "22275390",
   "metadata": {},
   "outputs": [],
   "source": [
    "residuals_w_scaling = si.InjectTemplatesRecording(\n",
    "    sorting=sorting_c,\n",
    "    templates=-all_templates,\n",
    "    amplitude_factor=amp_scalings,\n",
    "    nbefore=we.nbefore,\n",
    "    parent_recording=we.recording\n",
    ")\n",
    "residuals_wout_scaling = si.InjectTemplatesRecording(\n",
    "    sorting=sorting_c,\n",
    "    templates=-all_templates,\n",
    "    amplitude_factor=None,\n",
    "    nbefore=we.nbefore,\n",
    "    parent_recording=we.recording\n",
    ")"
   ]
  },
  {
   "cell_type": "code",
   "execution_count": null,
   "id": "10ab13a5",
   "metadata": {},
   "outputs": [],
   "source": [
    "rec_dict = dict(\n",
    "    original=recording_processed,\n",
    "    residuals_w=residuals_w_scaling,\n",
    "    residuals_wout=residuals_wout_scaling\n",
    ")"
   ]
  },
  {
   "cell_type": "code",
   "execution_count": null,
   "id": "6c0a99c5",
   "metadata": {},
   "outputs": [],
   "source": [
    "all_templates.shape"
   ]
  },
  {
   "cell_type": "code",
   "execution_count": null,
   "id": "114a153e",
   "metadata": {},
   "outputs": [],
   "source": [
    "si.plot_rasters(sorting_c)"
   ]
  },
  {
   "cell_type": "code",
   "execution_count": null,
   "id": "50821717",
   "metadata": {},
   "outputs": [],
   "source": [
    "spike_counts = sorting_c.count_num_spikes_per_unit()"
   ]
  },
  {
   "cell_type": "code",
   "execution_count": null,
   "id": "bd499987",
   "metadata": {},
   "outputs": [],
   "source": [
    "spike_counts"
   ]
  },
  {
   "cell_type": "code",
   "execution_count": null,
   "id": "63ded760",
   "metadata": {},
   "outputs": [],
   "source": [
    "recording_c.get_times()[0]"
   ]
  },
  {
   "cell_type": "code",
   "execution_count": null,
   "id": "08d019a1",
   "metadata": {},
   "outputs": [],
   "source": [
    "len(sorting_c.get_unit_spike_train(\"115\", return_times=True))"
   ]
  },
  {
   "cell_type": "code",
   "execution_count": null,
   "id": "e7c4614b",
   "metadata": {},
   "outputs": [],
   "source": [
    "for unit in we.unit_ids:\n",
    "    "
   ]
  },
  {
   "cell_type": "code",
   "execution_count": null,
   "id": "1554c6a1",
   "metadata": {},
   "outputs": [],
   "source": [
    "times_155 = we.sorting.get_unit_spike_train(\"115\", return_times=True)"
   ]
  },
  {
   "cell_type": "code",
   "execution_count": null,
   "id": "02e1e268",
   "metadata": {},
   "outputs": [],
   "source": [
    "len(times_155)"
   ]
  },
  {
   "cell_type": "code",
   "execution_count": null,
   "id": "e00394fc",
   "metadata": {},
   "outputs": [],
   "source": [
    "print(times_155[0], times_155[-1])"
   ]
  },
  {
   "cell_type": "code",
   "execution_count": null,
   "id": "9f9bae7d",
   "metadata": {},
   "outputs": [],
   "source": [
    "si.plot_unit_templates(we, backend=\"ipywidgets\")"
   ]
  },
  {
   "cell_type": "code",
   "execution_count": null,
   "id": "0ecbf127",
   "metadata": {},
   "outputs": [],
   "source": [
    "si.plot_traces(rec_dict, backend=\"ipywidgets\")"
   ]
  },
  {
   "cell_type": "code",
   "execution_count": null,
   "id": "203cb7f8",
   "metadata": {},
   "outputs": [],
   "source": [
    "for unit in sorting_c.unit_ids:\n",
    "    print(unit, len(sorting_c.get_unit_spike_train(unit)))"
   ]
  },
  {
   "cell_type": "markdown",
   "id": "d3a64cd9",
   "metadata": {},
   "source": [
    "## Detection analysis"
   ]
  },
  {
   "cell_type": "code",
   "execution_count": null,
   "id": "93c43a07",
   "metadata": {},
   "outputs": [],
   "source": [
    "from spikeinterface.core.node_pipeline import "
   ]
  },
  {
   "cell_type": "code",
   "execution_count": null,
   "id": "9805137c",
   "metadata": {},
   "outputs": [],
   "source": []
  },
  {
   "cell_type": "code",
   "execution_count": null,
   "id": "9ec1ca5e",
   "metadata": {},
   "outputs": [],
   "source": []
  },
  {
   "cell_type": "code",
   "execution_count": null,
   "id": "7da5eabb",
   "metadata": {},
   "outputs": [],
   "source": []
  },
  {
   "cell_type": "code",
   "execution_count": null,
   "id": "d782376b",
   "metadata": {},
   "outputs": [],
   "source": []
  },
  {
   "cell_type": "code",
   "execution_count": null,
   "id": "03644ab0",
   "metadata": {},
   "outputs": [],
   "source": []
  },
  {
   "cell_type": "code",
   "execution_count": null,
   "id": "2a2fefff",
   "metadata": {},
   "outputs": [],
   "source": []
  },
  {
   "cell_type": "code",
   "execution_count": null,
   "id": "1fc3b2cc",
   "metadata": {},
   "outputs": [],
   "source": []
  },
  {
   "cell_type": "markdown",
   "id": "61cd9255",
   "metadata": {},
   "source": [
    "# Stream NWB"
   ]
  },
  {
   "cell_type": "code",
   "execution_count": null,
   "id": "1c04396b",
   "metadata": {},
   "outputs": [],
   "source": []
  },
  {
   "cell_type": "markdown",
   "id": "967130c7",
   "metadata": {},
   "source": [
    "### Load IBL recording"
   ]
  },
  {
   "cell_type": "code",
   "execution_count": null,
   "id": "5709b87a",
   "metadata": {},
   "outputs": [],
   "source": [
    "rec_ibl = si.read_nwb_recording(\n",
    "    file_path=\"https://api.dandiarchive.org/api/assets/b2fee6b4-6049-4720-8d3d-44f8ec483527/download/\",\n",
    "    stream_mode=\"remfile\",\n",
    "    electrical_series_path=\"acquisition/ElectricalSeriesAp00\"\n",
    ")"
   ]
  },
  {
   "cell_type": "code",
   "execution_count": null,
   "id": "68e6ca40",
   "metadata": {},
   "outputs": [],
   "source": [
    "rec_f = si.highpass_filter(rec_ibl)\n",
    "rec_de = si.highpass_spatial_filter(rec_f)\n",
    "rec_cmr = si.common_reference(rec_f)"
   ]
  },
  {
   "cell_type": "code",
   "execution_count": null,
   "id": "3b9dd96c",
   "metadata": {},
   "outputs": [],
   "source": [
    "rec_dict = dict(\n",
    "    raw=rec_ibl,\n",
    "    hp=rec_f,\n",
    "    destripe=rec_de,\n",
    "    cmr=rec_cmr\n",
    ")"
   ]
  },
  {
   "cell_type": "code",
   "execution_count": null,
   "id": "bb214056",
   "metadata": {},
   "outputs": [],
   "source": [
    "si.plot_traces(rec_dict, backend=\"ipywidgets\")"
   ]
  },
  {
   "cell_type": "markdown",
   "id": "a4221d9a",
   "metadata": {},
   "source": [
    "### Save 10 s data"
   ]
  },
  {
   "cell_type": "code",
   "execution_count": null,
   "id": "66eec128",
   "metadata": {},
   "outputs": [],
   "source": [
    "rec_ibl_cut = rec_ibl.frame_slice(0, int(10 * rec_ibl.sampling_frequency))"
   ]
  },
  {
   "cell_type": "code",
   "execution_count": null,
   "id": "45cfb458",
   "metadata": {},
   "outputs": [],
   "source": [
    "rec_ibl_saved = rec_ib_cut.save(folder=\"ibl_snippet_10\", n_jobs=-1)"
   ]
  },
  {
   "cell_type": "code",
   "execution_count": null,
   "id": "ac61c664",
   "metadata": {},
   "outputs": [],
   "source": [
    "rec_f = si.highpass_filter(rec_ibl_cut)\n",
    "rec_de = si.highpass_spatial_filter(rec_f)\n",
    "rec_cmr = si.common_reference(rec_f)"
   ]
  },
  {
   "cell_type": "code",
   "execution_count": null,
   "id": "bb7ad87d",
   "metadata": {},
   "outputs": [],
   "source": []
  },
  {
   "cell_type": "code",
   "execution_count": null,
   "id": "dc493286",
   "metadata": {},
   "outputs": [],
   "source": []
  },
  {
   "cell_type": "code",
   "execution_count": null,
   "id": "16870001",
   "metadata": {},
   "outputs": [],
   "source": []
  },
  {
   "cell_type": "code",
   "execution_count": null,
   "id": "ef124d32",
   "metadata": {},
   "outputs": [],
   "source": [
    "debug"
   ]
  },
  {
   "cell_type": "code",
   "execution_count": null,
   "id": "1d1fbd31",
   "metadata": {},
   "outputs": [],
   "source": [
    "recording.sampling_frequency"
   ]
  },
  {
   "cell_type": "code",
   "execution_count": null,
   "id": "9726ce9a",
   "metadata": {},
   "outputs": [],
   "source": []
  },
  {
   "cell_type": "markdown",
   "id": "068694ff",
   "metadata": {},
   "source": [
    "### Load IBL recording"
   ]
  },
  {
   "cell_type": "code",
   "execution_count": null,
   "id": "06c0b970",
   "metadata": {},
   "outputs": [],
   "source": [
    "rec_ibl = si.read_nwb_recording(\n",
    "    file_path=\"https://api.dandiarchive.org/api/assets/b2fee6b4-6049-4720-8d3d-44f8ec483527/download/\",\n",
    "    stream_mode=\"remfile\",\n",
    "    electrical_series_path=\"acquisition/ElectricalSeriesAp00\"\n",
    ")"
   ]
  },
  {
   "cell_type": "code",
   "execution_count": null,
   "id": "3412381e",
   "metadata": {},
   "outputs": [],
   "source": [
    "rec_f = si.highpass_filter(rec_ibl)\n",
    "rec_de = si.highpass_spatial_filter(rec_f)\n",
    "rec_cmr = si.common_reference(rec_f)"
   ]
  },
  {
   "cell_type": "code",
   "execution_count": null,
   "id": "e4a53871",
   "metadata": {},
   "outputs": [],
   "source": [
    "rec_dict = dict(\n",
    "    raw=rec_ibl,\n",
    "    hp=rec_f,\n",
    "    destripe=rec_de,\n",
    "    cmr=rec_cmr\n",
    ")"
   ]
  },
  {
   "cell_type": "code",
   "execution_count": null,
   "id": "e2ca45da",
   "metadata": {},
   "outputs": [],
   "source": [
    "si.plot_traces(rec_dict, backend=\"ipywidgets\")"
   ]
  },
  {
   "cell_type": "markdown",
   "id": "2a008866",
   "metadata": {},
   "source": [
    "### Save 10 s data"
   ]
  },
  {
   "cell_type": "code",
   "execution_count": null,
   "id": "862ea939",
   "metadata": {},
   "outputs": [],
   "source": [
    "rec_ibl_cut = rec_ibl.frame_slice(0, int(10 * rec_ibl.sampling_frequency))"
   ]
  },
  {
   "cell_type": "code",
   "execution_count": null,
   "id": "bbc7a660",
   "metadata": {},
   "outputs": [],
   "source": [
    "rec_ibl_saved = rec_ib_cut.save(folder=\"ibl_snippet_10\", n_jobs=-1)"
   ]
  },
  {
   "cell_type": "code",
   "execution_count": null,
   "id": "325fb6be",
   "metadata": {},
   "outputs": [],
   "source": [
    "rec_f = si.highpass_filter(rec_ibl_cut)\n",
    "rec_de = si.highpass_spatial_filter(rec_f)\n",
    "rec_cmr = si.common_reference(rec_f)"
   ]
  },
  {
   "cell_type": "markdown",
   "id": "12519c10",
   "metadata": {},
   "source": [
    "## Load IBL sorting"
   ]
  },
  {
   "cell_type": "code",
   "execution_count": null,
   "id": "28a922ca",
   "metadata": {},
   "outputs": [],
   "source": [
    "from one.api import ONE\n",
    "from brainbox.io.one import SpikeSortingLoader\n",
    "one = ONE(base_url='https://openalyx.internationalbrainlab.org')"
   ]
  },
  {
   "cell_type": "code",
   "execution_count": null,
   "id": "d8987545",
   "metadata": {},
   "outputs": [],
   "source": [
    "pid = '410ecab4-1d7b-4c57-85a8-dfebf29feba8'\n",
    "sl = SpikeSortingLoader(pid=pid, one=one)\n",
    "spikes, clusters, channels = sl.load_spike_sorting()"
   ]
  },
  {
   "cell_type": "code",
   "execution_count": null,
   "id": "d118280e",
   "metadata": {},
   "outputs": [],
   "source": [
    "sort_ibl_cut = sort_ibl.frame_slice(0, int(10 * rec_ibl.sampling_frequency))\n",
    "sort_ibl_saved = sort_ibl_cut.save(folder=\"ibl_sort_snippet_10\")"
   ]
  },
  {
   "cell_type": "code",
   "execution_count": null,
   "id": "212b48a2",
   "metadata": {},
   "outputs": [],
   "source": [
    "sort_ibl_cut = sort_ibl.frame_slice(0, int(10 * rec_ibl.sampling_frequency))\n",
    "sort_ibl_saved = sort_ibl_cut.save(folder=\"ibl_sort_snippet_10\")"
   ]
  },
  {
   "cell_type": "code",
   "execution_count": null,
   "id": "40a48327",
   "metadata": {},
   "outputs": [],
   "source": [
    "pid = '410ecab4-1d7b-4c57-85a8-dfebf29feba8'\n",
    "sl = SpikeSortingLoader(pid=pid, one=one)\n",
    "spikes, clusters, channels = sl.load_spike_sorting()"
   ]
  },
  {
   "cell_type": "code",
   "execution_count": null,
   "id": "4f115bf6",
   "metadata": {},
   "outputs": [],
   "source": [
    "from one.api import ONE\n",
    "from brainbox.io.one import SpikeSortingLoader\n",
    "one = ONE(base_url='https://openalyx.internationalbrainlab.org')"
   ]
  },
  {
   "cell_type": "markdown",
   "id": "d5051d27",
   "metadata": {},
   "source": [
    "## Load IBL sorting"
   ]
  },
  {
   "cell_type": "code",
   "execution_count": null,
   "id": "891526c6",
   "metadata": {},
   "outputs": [],
   "source": [
    "rec_f = si.highpass_filter(rec_ibl_cut)\n",
    "rec_de = si.highpass_spatial_filter(rec_f)\n",
    "rec_cmr = si.common_reference(rec_f)"
   ]
  }
 ],
 "metadata": {
  "kernelspec": {
   "display_name": "Python 3 (ipykernel)",
   "language": "python",
   "name": "python3"
  },
  "language_info": {
   "codemirror_mode": {
    "name": "ipython",
    "version": 3
   },
   "file_extension": ".py",
   "mimetype": "text/x-python",
   "name": "python",
   "nbconvert_exporter": "python",
   "pygments_lexer": "ipython3",
   "version": "3.10.12"
  }
 },
 "nbformat": 4,
 "nbformat_minor": 5
}
