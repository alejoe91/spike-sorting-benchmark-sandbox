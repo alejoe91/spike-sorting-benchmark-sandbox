{
 "cells": [
  {
   "cell_type": "code",
   "execution_count": null,
   "id": "558b158b",
   "metadata": {},
   "outputs": [],
   "source": [
    "import spikeinterface.full as si"
   ]
  },
  {
   "cell_type": "code",
   "execution_count": null,
   "id": "fd601443",
   "metadata": {},
   "outputs": [],
   "source": [
    "%matplotlib widget"
   ]
  },
  {
   "cell_type": "markdown",
   "id": "8b38fbea",
   "metadata": {},
   "source": [
    "### Use simulated data for now"
   ]
  },
  {
   "cell_type": "code",
   "execution_count": null,
   "id": "6ed5043f",
   "metadata": {},
   "outputs": [],
   "source": [
    "rec, sort = si.generate_ground_truth_recording(durations=[60], num_channels=128, num_units=50)"
   ]
  },
  {
   "cell_type": "code",
   "execution_count": null,
   "id": "b1181240",
   "metadata": {},
   "outputs": [],
   "source": [
    "si.plot_probe_map(rec)"
   ]
  },
  {
   "cell_type": "code",
   "execution_count": null,
   "id": "267e6571",
   "metadata": {},
   "outputs": [],
   "source": [
    "si.plot_traces(rec, backend=\"ipywidgets\")"
   ]
  },
  {
   "cell_type": "markdown",
   "id": "f6a7ca9d",
   "metadata": {},
   "source": [
    "### Extract waveforms"
   ]
  },
  {
   "cell_type": "markdown",
   "id": "69a53d7f",
   "metadata": {},
   "source": [
    "Start with simulated data"
   ]
  },
  {
   "cell_type": "code",
   "execution_count": null,
   "id": "ffdacc3b",
   "metadata": {},
   "outputs": [],
   "source": [
    "we = si.extract_waveforms(rec, sort, folder=None, mode=\"memory\", n_jobs=-1)"
   ]
  },
  {
   "cell_type": "markdown",
   "id": "c08b330e",
   "metadata": {},
   "source": [
    "### Get spike scalings"
   ]
  },
  {
   "cell_type": "code",
   "execution_count": null,
   "id": "d221e99c",
   "metadata": {},
   "outputs": [],
   "source": [
    "amp_scalings = si.compute_amplitude_scalings(we)"
   ]
  },
  {
   "cell_type": "markdown",
   "id": "34ed0f77",
   "metadata": {},
   "source": [
    "## Get residuals"
   ]
  },
  {
   "cell_type": "code",
   "execution_count": null,
   "id": "8529909e",
   "metadata": {},
   "outputs": [],
   "source": [
    "all_templates = we.get_all_templates()"
   ]
  },
  {
   "cell_type": "code",
   "execution_count": null,
   "id": "c8780a5c",
   "metadata": {},
   "outputs": [],
   "source": [
    "residuals_w_scaling = si.InjectTemplatesRecording(\n",
    "    sorting=sort,\n",
    "    templates=-all_templates,\n",
    "    amplitude_factor=amp_scalings,\n",
    "    parent_recording=rec\n",
    ")\n",
    "residuals_wout_scaling = si.InjectTemplatesRecording(\n",
    "    sorting=sort,\n",
    "    templates=-all_templates,\n",
    "    amplitude_factor=None,\n",
    "    parent_recording=rec\n",
    ")"
   ]
  },
  {
   "cell_type": "code",
   "execution_count": null,
   "id": "d3f21d23",
   "metadata": {},
   "outputs": [],
   "source": [
    "rec_dict = dict(\n",
    "    original=rec,\n",
    "    residuals_w=residuals_w_scaling,\n",
    "    residuals_wout=residuals_wout_scaling\n",
    ")"
   ]
  },
  {
   "cell_type": "code",
   "execution_count": null,
   "id": "5d49d820",
   "metadata": {},
   "outputs": [],
   "source": [
    "si.plot_traces(rec_dict, backend=\"ipywidgets\")"
   ]
  },
  {
   "cell_type": "code",
   "execution_count": null,
   "id": "38ccbc84",
   "metadata": {},
   "outputs": [],
   "source": []
  },
  {
   "cell_type": "code",
   "execution_count": null,
   "id": "f6b204c1",
   "metadata": {},
   "outputs": [],
   "source": []
  },
  {
   "cell_type": "code",
   "execution_count": null,
   "id": "4a3b360b",
   "metadata": {},
   "outputs": [],
   "source": []
  },
  {
   "cell_type": "code",
   "execution_count": null,
   "id": "2cc73a67",
   "metadata": {},
   "outputs": [],
   "source": []
  },
  {
   "cell_type": "markdown",
   "id": "62da9b5f",
   "metadata": {},
   "source": [
    "# Stream NWB"
   ]
  },
  {
   "cell_type": "markdown",
   "id": "264b88bf",
   "metadata": {},
   "source": [
    "### Load IBL recording"
   ]
  },
  {
   "cell_type": "code",
   "execution_count": null,
   "id": "dd658177",
   "metadata": {},
   "outputs": [],
   "source": [
    "rec_ibl = si.read_nwb_recording(\n",
    "    file_path=\"https://api.dandiarchive.org/api/assets/b2fee6b4-6049-4720-8d3d-44f8ec483527/download/\",\n",
    "    stream_mode=\"remfile\",\n",
    "    electrical_series_path=\"acquisition/ElectricalSeriesAp00\"\n",
    ")"
   ]
  },
  {
   "cell_type": "code",
   "execution_count": null,
   "id": "333a2e9b",
   "metadata": {},
   "outputs": [],
   "source": [
    "rec_f = si.highpass_filter(rec_ibl)\n",
    "rec_de = si.highpass_spatial_filter(rec_f)\n",
    "rec_cmr = si.common_reference(rec_f)"
   ]
  },
  {
   "cell_type": "code",
   "execution_count": null,
   "id": "be3cc07f",
   "metadata": {},
   "outputs": [],
   "source": [
    "rec_dict = dict(\n",
    "    raw=rec_ibl,\n",
    "    hp=rec_f,\n",
    "    destripe=rec_de,\n",
    "    cmr=rec_cmr\n",
    ")"
   ]
  },
  {
   "cell_type": "code",
   "execution_count": null,
   "id": "013c5bf5",
   "metadata": {},
   "outputs": [],
   "source": [
    "si.plot_traces(rec_dict, backend=\"ipywidgets\")"
   ]
  },
  {
   "cell_type": "markdown",
   "id": "d218da20",
   "metadata": {},
   "source": [
    "### Save 10 s data"
   ]
  },
  {
   "cell_type": "code",
   "execution_count": null,
   "id": "05a3305f",
   "metadata": {},
   "outputs": [],
   "source": [
    "rec_ibl_cut = rec_ibl.frame_slice(0, int(10 * rec_ibl.sampling_frequency))"
   ]
  },
  {
   "cell_type": "code",
   "execution_count": null,
   "id": "4e08ece7",
   "metadata": {},
   "outputs": [],
   "source": [
    "rec_ibl_saved = rec_ib_cut.save(folder=\"ibl_snippet_10\", n_jobs=-1)"
   ]
  },
  {
   "cell_type": "code",
   "execution_count": null,
   "id": "c563bf27",
   "metadata": {},
   "outputs": [],
   "source": [
    "rec_f = si.highpass_filter(rec_ibl_cut)\n",
    "rec_de = si.highpass_spatial_filter(rec_f)\n",
    "rec_cmr = si.common_reference(rec_f)"
   ]
  }
 ],
 "metadata": {
  "kernelspec": {
   "display_name": "Python 3 (ipykernel)",
   "language": "python",
   "name": "python3"
  },
  "language_info": {
   "codemirror_mode": {
    "name": "ipython",
    "version": 3
   },
   "file_extension": ".py",
   "mimetype": "text/x-python",
   "name": "python",
   "nbconvert_exporter": "python",
   "pygments_lexer": "ipython3",
   "version": "3.10.12"
  }
 },
 "nbformat": 4,
 "nbformat_minor": 5
}
