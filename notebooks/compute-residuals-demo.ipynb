{
 "cells": [
  {
   "cell_type": "code",
   "execution_count": null,
   "id": "c4beac3a",
   "metadata": {},
   "outputs": [],
   "source": [
    "import spikeinterface as si\n",
    "import spikeinterface.widgets as sw\n",
    "\n",
    "from utils import compute_residuals"
   ]
  },
  {
   "cell_type": "code",
   "execution_count": null,
   "id": "7b1056df",
   "metadata": {},
   "outputs": [],
   "source": [
    "%matplotlib widget"
   ]
  },
  {
   "cell_type": "code",
   "execution_count": null,
   "id": "3b3c4aea",
   "metadata": {},
   "outputs": [],
   "source": [
    "# use your objects here\n",
    "recording, sorting = si.generate_ground_truth_recording()"
   ]
  },
  {
   "cell_type": "code",
   "execution_count": null,
   "id": "0c435c6e",
   "metadata": {},
   "outputs": [],
   "source": [
    "# compute waveforms\n",
    "we = si.extract_waveforms(recording, sorting, folder=\"my_folder\", n_jobs=-1)"
   ]
  },
  {
   "cell_type": "code",
   "execution_count": null,
   "id": "9b7d87b6",
   "metadata": {},
   "outputs": [],
   "source": [
    "residuals = compute_residuals(we, with_scaling=True, overwrite=True)"
   ]
  },
  {
   "cell_type": "code",
   "execution_count": null,
   "id": "19f1fa15",
   "metadata": {},
   "outputs": [],
   "source": [
    "# plot\n",
    "\n",
    "rec_dict = dict(\n",
    "    raw=recording,\n",
    "    residuals=residuals\n",
    ")\n",
    "\n",
    "sw.plot_traces(rec_dict, backend=\"ipywidgets\")"
   ]
  }
 ],
 "metadata": {
  "kernelspec": {
   "display_name": "Python 3 (ipykernel)",
   "language": "python",
   "name": "python3"
  },
  "language_info": {
   "codemirror_mode": {
    "name": "ipython",
    "version": 3
   },
   "file_extension": ".py",
   "mimetype": "text/x-python",
   "name": "python",
   "nbconvert_exporter": "python",
   "pygments_lexer": "ipython3",
   "version": "3.10.12"
  }
 },
 "nbformat": 4,
 "nbformat_minor": 5
}
