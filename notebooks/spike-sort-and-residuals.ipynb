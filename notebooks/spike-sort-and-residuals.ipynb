{
 "cells": [
  {
   "cell_type": "code",
   "execution_count": 1,
   "id": "2a9d37d9",
   "metadata": {},
   "outputs": [],
   "source": [
    "import numpy as np\n",
    "from pathlib import Path\n",
    "import spikeinterface.full as si\n",
    "import spikeinterface.sorters as ss\n",
    "\n",
    "import matplotlib.pyplot as plt\n",
    "\n",
    "from utils import compute_residuals, peak_detection_sweep"
   ]
  },
  {
   "cell_type": "code",
   "execution_count": 2,
   "id": "8a931437",
   "metadata": {},
   "outputs": [],
   "source": [
    "%matplotlib widget"
   ]
  },
  {
   "cell_type": "code",
   "execution_count": 3,
   "id": "6f7d15b4",
   "metadata": {},
   "outputs": [],
   "source": [
    "session = \"1a276285-8b0e-4cc9-9f0a-a3a002978724\"\n",
    "base_folder = Path(\"/home/alessio/Documents/Data/IBL/BENCHMARKS/\")"
   ]
  },
  {
   "cell_type": "code",
   "execution_count": 4,
   "id": "02f705cc",
   "metadata": {},
   "outputs": [],
   "source": [
    "recording = si.read_cbin_ibl(base_folder / session,\n",
    "                             stream_name=\"ap\")"
   ]
  },
  {
   "cell_type": "code",
   "execution_count": 5,
   "id": "e42a9876",
   "metadata": {},
   "outputs": [],
   "source": [
    "recording = recording.frame_slice(0, 60*30000)\n",
    "recording = recording.channel_slice(recording.channel_ids[:64])"
   ]
  },
  {
   "cell_type": "code",
   "execution_count": 6,
   "id": "5a50095b",
   "metadata": {},
   "outputs": [
    {
     "data": {
      "text/plain": [
       "ChannelSliceRecording: 64 channels - 30.0kHz - 1 segments - 1,800,000 samples \n",
       "                       60.00s (1.00 minutes) - int16 dtype - 219.73 MiB"
      ]
     },
     "execution_count": 6,
     "metadata": {},
     "output_type": "execute_result"
    }
   ],
   "source": [
    "recording"
   ]
  },
  {
   "cell_type": "markdown",
   "id": "9a7c6b50",
   "metadata": {},
   "source": [
    "### Preprocessing"
   ]
  },
  {
   "cell_type": "code",
   "execution_count": 7,
   "id": "3521bd5f",
   "metadata": {},
   "outputs": [],
   "source": [
    "recording_processed = si.phase_shift(recording)\n",
    "recording_processed = si.highpass_filter(recording_processed)"
   ]
  },
  {
   "cell_type": "code",
   "execution_count": 8,
   "id": "951b30a0",
   "metadata": {},
   "outputs": [],
   "source": [
    "bad_channel_ids, bad_channel_labels = si.detect_bad_channels(recording_processed)"
   ]
  },
  {
   "cell_type": "code",
   "execution_count": 9,
   "id": "0177d466",
   "metadata": {},
   "outputs": [
    {
     "name": "stdout",
     "output_type": "stream",
     "text": [
      "(array(['good'], dtype='<U5'), array([64]))\n"
     ]
    }
   ],
   "source": [
    "# remove bad channels\n",
    "print(np.unique(bad_channel_labels, return_counts=True))"
   ]
  },
  {
   "cell_type": "code",
   "execution_count": 10,
   "id": "c5418698",
   "metadata": {},
   "outputs": [],
   "source": [
    "recording_clean = recording_processed.remove_channels(bad_channel_ids)"
   ]
  },
  {
   "cell_type": "code",
   "execution_count": 11,
   "id": "9d4a7c26",
   "metadata": {},
   "outputs": [],
   "source": [
    "recording_clean = si.common_reference(recording_clean)"
   ]
  },
  {
   "cell_type": "code",
   "execution_count": 12,
   "id": "fd2a8334",
   "metadata": {},
   "outputs": [
    {
     "name": "stdout",
     "output_type": "stream",
     "text": [
      "CommonReferenceRecording: 64 channels - 30.0kHz - 1 segments - 1,800,000 samples \n",
      "                          60.00s (1.00 minutes) - int16 dtype - 219.73 MiB\n"
     ]
    }
   ],
   "source": [
    "print(recording_clean)"
   ]
  },
  {
   "cell_type": "markdown",
   "id": "62dd07ed",
   "metadata": {},
   "source": [
    "### Run sorters"
   ]
  },
  {
   "cell_type": "code",
   "execution_count": 13,
   "id": "0cbc2427",
   "metadata": {},
   "outputs": [],
   "source": [
    "si.set_global_job_kwargs(n_jobs=0.5)"
   ]
  },
  {
   "cell_type": "code",
   "execution_count": 14,
   "id": "01d49c7d",
   "metadata": {},
   "outputs": [
    {
     "data": {
      "text/plain": [
       "['kilosort2_5', 'kilosort3', 'mountainsort5', 'spykingcircus2', 'tridesclous2']"
      ]
     },
     "execution_count": 14,
     "metadata": {},
     "output_type": "execute_result"
    }
   ],
   "source": [
    "ss.installed_sorters()"
   ]
  },
  {
   "cell_type": "code",
   "execution_count": 26,
   "id": "0a363832",
   "metadata": {},
   "outputs": [],
   "source": [
    "sorters = [\"spykingcircus2\", \"mountainsort5\", \"kilosort2_5\", \"kilosort3\"]\n",
    "sorting_params = {\n",
    "    \"spykingcircus2\": dict(apply_preprocessing=False),\n",
    "    \"mountainsort5\": dict(n_jobs_for_preprocessing=4, temporary_base_dir=\"tmp\", filter=False,),\n",
    "    \"kilosort2_5\": dict(n_jobs=0.5),\n",
    "    \"kilosort3\": dict(n_jobs=0.5),\n",
    "}"
   ]
  },
  {
   "cell_type": "code",
   "execution_count": 27,
   "id": "6ba69d67",
   "metadata": {},
   "outputs": [],
   "source": [
    "output_folder = Path(\".\") / session\n",
    "output_folder.mkdir(exist_ok=True)"
   ]
  },
  {
   "cell_type": "code",
   "execution_count": 28,
   "id": "31d04923",
   "metadata": {},
   "outputs": [],
   "source": [
    "tmp_folder = Path(\"tmp\")\n",
    "tmp_folder.mkdir(exist_ok=True)\n",
    "\n",
    "overwrite = False"
   ]
  },
  {
   "cell_type": "code",
   "execution_count": 29,
   "id": "150abebd",
   "metadata": {
    "scrolled": true
   },
   "outputs": [
    {
     "name": "stdout",
     "output_type": "stream",
     "text": [
      "Loading spykingcircus2\n",
      "Loading mountainsort5\n",
      "Loading kilosort2_5\n",
      "Running kilosort3\n"
     ]
    }
   ],
   "source": [
    "sorting_outputs = dict()\n",
    "for sorter in sorters:\n",
    "    if not (output_folder / f\"sorting_{sorter}\").is_dir() and not overwrite:\n",
    "        print(f\"Running {sorter}\")\n",
    "        sorting = si.run_sorter(sorter_name=sorter, recording=recording_clean,\n",
    "                                output_folder=output_folder / f\"tmp_{sorter}\", delete_output_folder=True,\n",
    "                                remove_existing_folder=True, **sorting_params[sorter])\n",
    "        sorting = sorting.save(folder=output_folder / f\"sorting_{sorter}\")\n",
    "    else:\n",
    "        print(f\"Loading {sorter}\")\n",
    "        sorting = si.load_extractor(output_folder / f\"sorting_{sorter}\")\n",
    "    sorting_outputs[sorter] = sorting"
   ]
  },
  {
   "cell_type": "code",
   "execution_count": 46,
   "id": "66dc69ca",
   "metadata": {},
   "outputs": [
    {
     "name": "stdout",
     "output_type": "stream",
     "text": [
      "spykingcircus2 found 40 (52977 spikes)\n",
      "mountainsort5 found 49 (16176 spikes)\n",
      "kilosort2_5 found 82 (19240 spikes)\n",
      "kilosort3 found 78 (32844 spikes)\n"
     ]
    }
   ],
   "source": [
    "for sorter in sorting_outputs:\n",
    "    sorting = sorting_outputs[sorter]\n",
    "    total_spikes = np.sum(list(sorting.count_num_spikes_per_unit().values()))\n",
    "    print(f\"{sorter} found {len(sorting.unit_ids)} ({total_spikes} spikes)\")"
   ]
  },
  {
   "cell_type": "code",
   "execution_count": 31,
   "id": "82444fa1",
   "metadata": {},
   "outputs": [],
   "source": [
    "overwrite = False"
   ]
  },
  {
   "cell_type": "code",
   "execution_count": 32,
   "id": "88a50d03",
   "metadata": {},
   "outputs": [
    {
     "data": {
      "application/vnd.jupyter.widget-view+json": {
       "model_id": "d75497e16dfd41969688fbaa28b53349",
       "version_major": 2,
       "version_minor": 0
      },
      "text/plain": [
       "extract waveforms shared_memory multi buffer:   0%|          | 0/60 [00:00<?, ?it/s]"
      ]
     },
     "metadata": {},
     "output_type": "display_data"
    },
    {
     "data": {
      "application/vnd.jupyter.widget-view+json": {
       "model_id": "39207059824b44f085bb0b5e57b2f021",
       "version_major": 2,
       "version_minor": 0
      },
      "text/plain": [
       "extract waveforms memmap multi buffer:   0%|          | 0/60 [00:00<?, ?it/s]"
      ]
     },
     "metadata": {},
     "output_type": "display_data"
    },
    {
     "data": {
      "application/vnd.jupyter.widget-view+json": {
       "model_id": "7d14a88b5be1432ebd78b97f51a3282b",
       "version_major": 2,
       "version_minor": 0
      },
      "text/plain": [
       "extract amplitude scalings:   0%|          | 0/60 [00:00<?, ?it/s]"
      ]
     },
     "metadata": {},
     "output_type": "display_data"
    },
    {
     "data": {
      "application/vnd.jupyter.widget-view+json": {
       "model_id": "47926db828bc4783b36ef427cfdfb66b",
       "version_major": 2,
       "version_minor": 0
      },
      "text/plain": [
       "extract waveforms shared_memory multi buffer:   0%|          | 0/60 [00:00<?, ?it/s]"
      ]
     },
     "metadata": {},
     "output_type": "display_data"
    },
    {
     "data": {
      "application/vnd.jupyter.widget-view+json": {
       "model_id": "0c777818a17c429cba63eac4d5e02d2a",
       "version_major": 2,
       "version_minor": 0
      },
      "text/plain": [
       "extract waveforms memmap multi buffer:   0%|          | 0/60 [00:00<?, ?it/s]"
      ]
     },
     "metadata": {},
     "output_type": "display_data"
    },
    {
     "data": {
      "application/vnd.jupyter.widget-view+json": {
       "model_id": "603c7639c17e41f18d2b3e95ceff9ac9",
       "version_major": 2,
       "version_minor": 0
      },
      "text/plain": [
       "extract amplitude scalings:   0%|          | 0/60 [00:00<?, ?it/s]"
      ]
     },
     "metadata": {},
     "output_type": "display_data"
    }
   ],
   "source": [
    "residuals = dict()\n",
    "waveforms = dict()\n",
    "for sorter, sorting in sorting_outputs.items():\n",
    "    if not (output_folder / f\"waveforms_{sorter}\").is_dir() or overwrite:\n",
    "        we = si.extract_waveforms(recording_clean, sorting, folder=output_folder / f\"waveforms_{sorter}\",\n",
    "                                  overwrite=True, return_scaled=False)\n",
    "    else:\n",
    "        we = si.load_waveforms(output_folder / f\"waveforms_{sorter}\")\n",
    "    residual_with, convolved_with = compute_residuals(we, with_scaling=True)\n",
    "    residuals[sorter] = dict(\n",
    "        original=recording_clean,\n",
    "        residuals=residual_with,\n",
    "        conv=convolved_with,\n",
    "    )\n",
    "    waveforms[sorter] = we"
   ]
  },
  {
   "cell_type": "code",
   "execution_count": 34,
   "id": "69497128",
   "metadata": {},
   "outputs": [],
   "source": [
    "result_all = dict(\n",
    "    original=recording_clean\n",
    ")\n",
    "for sorter in residuals:\n",
    "    result_all[sorter] = residuals[sorter][\"residuals\"]"
   ]
  },
  {
   "cell_type": "code",
   "execution_count": 35,
   "id": "fa10aacd",
   "metadata": {
    "scrolled": false
   },
   "outputs": [
    {
     "data": {
      "application/vnd.jupyter.widget-view+json": {
       "model_id": "d4ecd689a72f4eaf95717dd6be85311c",
       "version_major": 2,
       "version_minor": 0
      },
      "text/plain": [
       "AppLayout(children=(TimeSlider(children=(Dropdown(description='segment', options=(0,), value=0), Button(icon='…"
      ]
     },
     "metadata": {},
     "output_type": "display_data"
    },
    {
     "data": {
      "text/plain": [
       "<spikeinterface.widgets.traces.TracesWidget at 0x7fe07fda9ea0>"
      ]
     },
     "execution_count": 35,
     "metadata": {},
     "output_type": "execute_result"
    }
   ],
   "source": [
    "si.plot_traces(result_all, backend=\"ipywidgets\")"
   ]
  },
  {
   "cell_type": "markdown",
   "id": "b21f345e",
   "metadata": {},
   "source": [
    "## Detection analysis"
   ]
  },
  {
   "cell_type": "code",
   "execution_count": 36,
   "id": "6a097b14",
   "metadata": {},
   "outputs": [],
   "source": [
    "thresholds = np.arange(4, 11)[::-1]"
   ]
  },
  {
   "cell_type": "code",
   "execution_count": 37,
   "id": "f1dd7ba4",
   "metadata": {},
   "outputs": [
    {
     "data": {
      "text/plain": [
       "array([10,  9,  8,  7,  6,  5,  4])"
      ]
     },
     "execution_count": 37,
     "metadata": {},
     "output_type": "execute_result"
    }
   ],
   "source": [
    "thresholds"
   ]
  },
  {
   "cell_type": "code",
   "execution_count": 38,
   "id": "d7592592",
   "metadata": {},
   "outputs": [],
   "source": [
    "noise_levels = si.get_noise_levels(recording_clean)"
   ]
  },
  {
   "cell_type": "code",
   "execution_count": 47,
   "id": "59f2f90e",
   "metadata": {},
   "outputs": [
    {
     "data": {
      "application/vnd.jupyter.widget-view+json": {
       "model_id": "6d7c425983e64a359a719911f86f040e",
       "version_major": 2,
       "version_minor": 0
      },
      "text/plain": [
       "detect peaks with 7 thresholds:   0%|          | 0/60 [00:00<?, ?it/s]"
      ]
     },
     "metadata": {},
     "output_type": "display_data"
    },
    {
     "data": {
      "application/vnd.jupyter.widget-view+json": {
       "model_id": "6d787b7072934890b3d1da5f41307899",
       "version_major": 2,
       "version_minor": 0
      },
      "text/plain": [
       "detect peaks with 7 thresholds:   0%|          | 0/60 [00:00<?, ?it/s]"
      ]
     },
     "metadata": {},
     "output_type": "display_data"
    },
    {
     "data": {
      "application/vnd.jupyter.widget-view+json": {
       "model_id": "473783232934453cb0b4081a2c34c322",
       "version_major": 2,
       "version_minor": 0
      },
      "text/plain": [
       "detect peaks with 7 thresholds:   0%|          | 0/60 [00:00<?, ?it/s]"
      ]
     },
     "metadata": {},
     "output_type": "display_data"
    },
    {
     "data": {
      "application/vnd.jupyter.widget-view+json": {
       "model_id": "77628477fbd747dd9768b9f96bcda703",
       "version_major": 2,
       "version_minor": 0
      },
      "text/plain": [
       "detect peaks with 7 thresholds:   0%|          | 0/60 [00:00<?, ?it/s]"
      ]
     },
     "metadata": {},
     "output_type": "display_data"
    }
   ],
   "source": [
    "peak_counts = {}\n",
    "peaks = {}\n",
    "\n",
    "for sorter in residuals:\n",
    "    residual_recording = residuals[sorter][\"residuals\"]\n",
    "    pc, p = peak_detection_sweep(\n",
    "        residual_recording,\n",
    "        thresholds,\n",
    "        noise_levels=noise_levels\n",
    "    )\n",
    "    peak_counts[sorter] = pc\n",
    "    peaks[sorter] = p"
   ]
  },
  {
   "cell_type": "code",
   "execution_count": 48,
   "id": "82f2f033",
   "metadata": {},
   "outputs": [
    {
     "name": "stdout",
     "output_type": "stream",
     "text": [
      "AUC spykingcircus2: 0.4805989583333333\n",
      "AUC mountainsort5: 0.10013020833333333\n",
      "AUC kilosort2_5: 0.04049479166666666\n",
      "AUC kilosort3: 0.19231770833333334\n"
     ]
    },
    {
     "data": {
      "application/vnd.jupyter.widget-view+json": {
       "model_id": "223927aac3084d00967af97f0897012c",
       "version_major": 2,
       "version_minor": 0
      },
      "image/png": "[encoded data removed]",
      "text/html": [
       "\n",
       "            <div style=\"display: inline-block;\">\n",
       "                <div class=\"jupyter-widgets widget-label\" style=\"text-align: center;\">\n",
       "                    Figure\n",
       "                </div>\n",
       "                <img src='data:image/png;base64,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' width=640.0/>\n",
       "            </div>\n",
       "        "
      ],
      "text/plain": [
       "Canvas(toolbar=Toolbar(toolitems=[('Home', 'Reset original view', 'home', 'home'), ('Back', 'Back to previous …"
      ]
     },
     "metadata": {},
     "output_type": "display_data"
    }
   ],
   "source": [
    "from sklearn.metrics import auc\n",
    "\n",
    "fig, ax = plt.subplots()\n",
    "\n",
    "for sorter, pc in peak_counts.items():\n",
    "    ax.plot(pc.keys(), pc.values(), label=sorter)\n",
    "    thshs = list(pc.keys())\n",
    "    counts = list(pc.values())\n",
    "    auc_val = auc(thshs, counts)\n",
    "    ax.fill_between(thshs, counts, alpha=0.1)\n",
    "    print(f\"AUC {sorter}: {auc_val}\")\n",
    "ax.legend(fontsize=15)\n",
    "ax.set_xlabel(\"Thresholds (MAD)\", fontsize=15)\n",
    "ax.set_ylabel(\"# Detected peaks\", fontsize=15)\n",
    "ax.spines[\"top\"].set_visible(False)\n",
    "ax.spines[\"right\"].set_visible(False)"
   ]
  },
  {
   "cell_type": "code",
   "execution_count": null,
   "id": "eea1cd4c",
   "metadata": {},
   "outputs": [],
   "source": [
    "ax.fill_between?"
   ]
  },
  {
   "cell_type": "markdown",
   "id": "beb29889",
   "metadata": {},
   "source": [
    "## Identify clear mistakes"
   ]
  },
  {
   "cell_type": "code",
   "execution_count": null,
   "id": "6e7b99b1",
   "metadata": {},
   "outputs": [],
   "source": [
    "sorter = \"mountainsort5\"\n",
    "thresh = 6"
   ]
  },
  {
   "cell_type": "code",
   "execution_count": null,
   "id": "4c92fc90",
   "metadata": {},
   "outputs": [],
   "source": [
    "peaks_sorter = peaks[sorter][thresh]\n",
    "residual_recording = residuals[sorter][\"residuals\"]"
   ]
  },
  {
   "cell_type": "code",
   "execution_count": null,
   "id": "a1a56372",
   "metadata": {},
   "outputs": [],
   "source": [
    "len(peaks_sorter)"
   ]
  },
  {
   "cell_type": "code",
   "execution_count": null,
   "id": "e9894e08",
   "metadata": {
    "scrolled": false
   },
   "outputs": [],
   "source": [
    "for peak in peaks_sorter[::5]:\n",
    "    peak = peaks_sorter[0]\n",
    "\n",
    "    peak_time = peak[\"sample_index\"] / recording.sampling_frequency\n",
    "    time_range = [peak_time - 0.005, peak_time + 0.005]\n",
    "\n",
    "    neighbours = np.arange(peak[\"channel_index\"] - 3, peak[\"channel_index\"] + 3)\n",
    "\n",
    "    rec_dict = dict(original=recording_clean, residual=residual_recording)\n",
    "    w = si.plot_traces(rec_dict, mode=\"line\", channel_ids=recording_clean.channel_ids[neighbours],\n",
    "                       time_range=time_range, show_channel_ids=True)"
   ]
  },
  {
   "cell_type": "code",
   "execution_count": null,
   "id": "c734793d",
   "metadata": {},
   "outputs": [],
   "source": [
    "templates = we.get_all_templates()"
   ]
  },
  {
   "cell_type": "code",
   "execution_count": null,
   "id": "cee71cb3",
   "metadata": {},
   "outputs": [],
   "source": [
    "templates.shape"
   ]
  },
  {
   "cell_type": "code",
   "execution_count": null,
   "id": "5a30325f",
   "metadata": {},
   "outputs": [],
   "source": [
    "templates_unscaled = templates / recording_clean.get_channel_gains()"
   ]
  },
  {
   "cell_type": "code",
   "execution_count": null,
   "id": "c0ff591d",
   "metadata": {},
   "outputs": [],
   "source": [
    "templates"
   ]
  },
  {
   "cell_type": "code",
   "execution_count": null,
   "id": "b6a6984b",
   "metadata": {},
   "outputs": [],
   "source": [
    "templates_unscaled"
   ]
  },
  {
   "cell_type": "code",
   "execution_count": null,
   "id": "087395e1",
   "metadata": {},
   "outputs": [],
   "source": []
  }
 ],
 "metadata": {
  "kernelspec": {
   "display_name": "Python 3 (ipykernel)",
   "language": "python",
   "name": "python3"
  },
  "language_info": {
   "codemirror_mode": {
    "name": "ipython",
    "version": 3
   },
   "file_extension": ".py",
   "mimetype": "text/x-python",
   "name": "python",
   "nbconvert_exporter": "python",
   "pygments_lexer": "ipython3",
   "version": "3.10.12"
  }
 },
 "nbformat": 4,
 "nbformat_minor": 5
}
