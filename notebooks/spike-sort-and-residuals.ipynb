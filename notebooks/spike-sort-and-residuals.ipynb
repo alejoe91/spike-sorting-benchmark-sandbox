{
 "cells": [
  {
   "cell_type": "code",
   "execution_count": null,
   "id": "2a9d37d9",
   "metadata": {},
   "outputs": [],
   "source": [
    "import numpy as np\n",
    "from pathlib import Path\n",
    "import spikeinterface.full as si\n",
    "import spikeinterface.sorters as ss\n",
    "\n",
    "import matplotlib.pyplot as plt\n",
    "\n",
    "from utils import compute_residuals, peak_detection_sweep"
   ]
  },
  {
   "cell_type": "code",
   "execution_count": null,
   "id": "8a931437",
   "metadata": {},
   "outputs": [],
   "source": [
    "%matplotlib widget"
   ]
  },
  {
   "cell_type": "code",
   "execution_count": null,
   "id": "6f7d15b4",
   "metadata": {},
   "outputs": [],
   "source": [
    "session = \"1a276285-8b0e-4cc9-9f0a-a3a002978724\"\n",
    "base_folder = Path(\"/home/alessio/Documents/Data/IBL/BENCHMARKS/\")"
   ]
  },
  {
   "cell_type": "code",
   "execution_count": null,
   "id": "02f705cc",
   "metadata": {},
   "outputs": [],
   "source": [
    "recording = si.read_cbin_ibl(base_folder / session,\n",
    "                             stream_name=\"ap\")"
   ]
  },
  {
   "cell_type": "code",
   "execution_count": null,
   "id": "e42a9876",
   "metadata": {},
   "outputs": [],
   "source": [
    "recording = recording.frame_slice(0, 60*30000)\n",
    "recording = recording.channel_slice(recording.channel_ids[:64])"
   ]
  },
  {
   "cell_type": "code",
   "execution_count": null,
   "id": "5a50095b",
   "metadata": {},
   "outputs": [],
   "source": [
    "recording"
   ]
  },
  {
   "cell_type": "markdown",
   "id": "9a7c6b50",
   "metadata": {},
   "source": [
    "### Preprocessing"
   ]
  },
  {
   "cell_type": "code",
   "execution_count": null,
   "id": "3521bd5f",
   "metadata": {},
   "outputs": [],
   "source": [
    "recording_processed = si.phase_shift(recording)\n",
    "recording_processed = si.highpass_filter(recording_processed)"
   ]
  },
  {
   "cell_type": "code",
   "execution_count": null,
   "id": "951b30a0",
   "metadata": {},
   "outputs": [],
   "source": [
    "bad_channel_ids, bad_channel_labels = si.detect_bad_channels(recording_processed)"
   ]
  },
  {
   "cell_type": "code",
   "execution_count": null,
   "id": "0177d466",
   "metadata": {},
   "outputs": [],
   "source": [
    "# remove bad channels\n",
    "print(np.unique(bad_channel_labels, return_counts=True))"
   ]
  },
  {
   "cell_type": "code",
   "execution_count": null,
   "id": "c5418698",
   "metadata": {},
   "outputs": [],
   "source": [
    "recording_clean = recording_processed.remove_channels(bad_channel_ids)"
   ]
  },
  {
   "cell_type": "code",
   "execution_count": null,
   "id": "9d4a7c26",
   "metadata": {},
   "outputs": [],
   "source": [
    "recording_clean = si.common_reference(recording_clean)"
   ]
  },
  {
   "cell_type": "code",
   "execution_count": null,
   "id": "fd2a8334",
   "metadata": {},
   "outputs": [],
   "source": [
    "print(recording_clean)"
   ]
  },
  {
   "cell_type": "markdown",
   "id": "62dd07ed",
   "metadata": {},
   "source": [
    "### Run sorters"
   ]
  },
  {
   "cell_type": "code",
   "execution_count": null,
   "id": "0cbc2427",
   "metadata": {},
   "outputs": [],
   "source": [
    "si.set_global_job_kwargs(n_jobs=0.5)"
   ]
  },
  {
   "cell_type": "code",
   "execution_count": null,
   "id": "01d49c7d",
   "metadata": {},
   "outputs": [],
   "source": [
    "ss.installed_sorters()"
   ]
  },
  {
   "cell_type": "code",
   "execution_count": null,
   "id": "0a363832",
   "metadata": {},
   "outputs": [],
   "source": [
    "sorters = [\"spykingcircus2\", \"mountainsort5\"]\n",
    "sorting_params = {\n",
    "    \"spykingcircus2\": dict(apply_preprocessing=False),\n",
    "    \"mountainsort5\": dict(n_jobs_for_preprocessing=4, temporary_base_dir=\"tmp\", filter=False,),\n",
    "    \"tridesclous2\": {}\n",
    "}"
   ]
  },
  {
   "cell_type": "code",
   "execution_count": null,
   "id": "6ba69d67",
   "metadata": {},
   "outputs": [],
   "source": [
    "output_folder = Path(\".\") / session\n",
    "output_folder.mkdir(exist_ok=True)"
   ]
  },
  {
   "cell_type": "code",
   "execution_count": null,
   "id": "31d04923",
   "metadata": {},
   "outputs": [],
   "source": [
    "tmp_folder = Path(\"tmp\")\n",
    "tmp_folder.mkdir(exist_ok=True)\n",
    "\n",
    "overwrite = False"
   ]
  },
  {
   "cell_type": "code",
   "execution_count": null,
   "id": "150abebd",
   "metadata": {
    "scrolled": true
   },
   "outputs": [],
   "source": [
    "sorting_outputs = dict()\n",
    "for sorter in sorters:\n",
    "    if not (output_folder / f\"sorting_{sorter}\").is_dir() and not overwrite:\n",
    "        print(f\"Running {sorter}\")\n",
    "        sorting = si.run_sorter(sorter_name=sorter, recording=recording_clean,\n",
    "                                output_folder=output_folder / f\"tmp_{sorter}\", delete_output_folder=True,\n",
    "                                remove_existing_folder=True, **sorting_params[sorter])\n",
    "        sorting = sorting.save(folder=output_folder / f\"sorting_{sorter}\")\n",
    "    else:\n",
    "        print(f\"Loading {sorter}\")\n",
    "        sorting = si.load_extractor(output_folder / f\"sorting_{sorter}\")\n",
    "    sorting_outputs[sorter] = sorting"
   ]
  },
  {
   "cell_type": "code",
   "execution_count": null,
   "id": "66dc69ca",
   "metadata": {},
   "outputs": [],
   "source": [
    "print(sorting_outputs)"
   ]
  },
  {
   "cell_type": "code",
   "execution_count": null,
   "id": "82444fa1",
   "metadata": {},
   "outputs": [],
   "source": [
    "overwrite = False"
   ]
  },
  {
   "cell_type": "code",
   "execution_count": null,
   "id": "88a50d03",
   "metadata": {},
   "outputs": [],
   "source": [
    "residuals = dict()\n",
    "waveforms = dict()\n",
    "for sorter, sorting in sorting_outputs.items():\n",
    "    # recording_scaled = si.scale(\n",
    "    #     recording_clean,\n",
    "    #     gain=recording_clean.get_channel_gains(),\n",
    "    #     dtype=\"float32\"\n",
    "    # )\n",
    "    if not (output_folder / f\"waveforms_{sorter}\").is_dir() or overwrite:\n",
    "        we = si.extract_waveforms(recording_clean, sorting, folder=output_folder / f\"waveforms_{sorter}\",\n",
    "                                  overwrite=True, return_scaled=False)\n",
    "    else:\n",
    "        we = si.load_waveforms(output_folder / f\"waveforms_{sorter}\")\n",
    "    residual_with, convolved_with = compute_residuals(we, with_scaling=True)\n",
    "    # residual_without, convolved_without = compute_residuals(we, with_scaling=False)\n",
    "    residuals[sorter] = dict(\n",
    "        original=recording_clean,\n",
    "        residuals=residual_with,\n",
    "        conv=convolved_with,\n",
    "    )\n",
    "    waveforms[sorter] = we"
   ]
  },
  {
   "cell_type": "code",
   "execution_count": null,
   "id": "4595c6f3",
   "metadata": {},
   "outputs": [],
   "source": [
    "residual_with"
   ]
  },
  {
   "cell_type": "code",
   "execution_count": null,
   "id": "fa10aacd",
   "metadata": {
    "scrolled": false
   },
   "outputs": [],
   "source": [
    "si.plot_traces(residuals[\"mountainsort5\"], backend=\"ipywidgets\")"
   ]
  },
  {
   "cell_type": "code",
   "execution_count": null,
   "id": "2ff626f2",
   "metadata": {},
   "outputs": [],
   "source": [
    "thresholds = np.arange(4, 11)[::-1]"
   ]
  },
  {
   "cell_type": "code",
   "execution_count": null,
   "id": "1873fc11",
   "metadata": {},
   "outputs": [],
   "source": [
    "rec_residual_ms5 = residuals[\"mountainsort5\"][\"residuals\"]\n",
    "rec_residual_sc2 = residuals[\"spykingcircus2\"][\"residuals\"]"
   ]
  },
  {
   "cell_type": "code",
   "execution_count": null,
   "id": "f09923b9",
   "metadata": {},
   "outputs": [],
   "source": [
    "noise_levels = si.get_noise_levels(recording_clean)"
   ]
  },
  {
   "cell_type": "code",
   "execution_count": null,
   "id": "9d63e379",
   "metadata": {},
   "outputs": [],
   "source": [
    "peak_counts = {}\n",
    "peaks = {}\n",
    "\n",
    "for sorter in residuals:\n",
    "    residual_recording = residuals[sorter][\"residuals\"]\n",
    "    pc, p = peak_detection_sweep(\n",
    "        residual_recording,\n",
    "        thresholds,\n",
    "        noise_levels=noise_levels\n",
    "    )\n",
    "    peak_counts[sorter] = pc\n",
    "    peaks[sorter] = p"
   ]
  },
  {
   "cell_type": "code",
   "execution_count": null,
   "id": "721d5d14",
   "metadata": {},
   "outputs": [],
   "source": [
    "from sklearn.metrics import auc\n",
    "\n",
    "fig, ax = plt.subplots()\n",
    "\n",
    "for sorter, pc in peak_counts.items():\n",
    "    ax.plot(pc.keys(), pc.values(), label=sorter)\n",
    "    auc_val = auc(list(pc.keys()), list(pc.values()))\n",
    "    print(f\"AUC {sorter}: {auc_val}\")\n",
    "ax.legend()"
   ]
  },
  {
   "cell_type": "code",
   "execution_count": null,
   "id": "d71cc744",
   "metadata": {},
   "outputs": [],
   "source": [
    "peak_counts_ms5, peaks_ms5 = peak_detection_sweep(rec_residual_ms5, thresholds)"
   ]
  },
  {
   "cell_type": "code",
   "execution_count": null,
   "id": "be0b7c2b",
   "metadata": {},
   "outputs": [],
   "source": [
    "import numpy as np\n",
    "\n",
    "import spikeinterface as si\n",
    "from spikeinterface.core.node_pipeline import run_node_pipeline, PeakDetector\n",
    "from spikeinterface.sortingcomponents.peak_detection import DetectPeakLocallyExclusive"
   ]
  },
  {
   "cell_type": "code",
   "execution_count": null,
   "id": "fdf6be05",
   "metadata": {},
   "outputs": [],
   "source": [
    "thresholds = np.arange(3, 11)[::-1]"
   ]
  },
  {
   "cell_type": "code",
   "execution_count": null,
   "id": "0c06a0b5",
   "metadata": {},
   "outputs": [],
   "source": [
    "thresholds"
   ]
  },
  {
   "cell_type": "code",
   "execution_count": null,
   "id": "288a5ad8",
   "metadata": {},
   "outputs": [],
   "source": [
    "noise_levels = si.get_noise_levels(recording_scaled)"
   ]
  },
  {
   "cell_type": "code",
   "execution_count": null,
   "id": "1752f9ba",
   "metadata": {},
   "outputs": [],
   "source": []
  },
  {
   "cell_type": "code",
   "execution_count": null,
   "id": "07e7e1fc",
   "metadata": {},
   "outputs": [],
   "source": [
    "nodes_ms5 = []\n",
    "nodes_sc2 = []\n",
    "\n",
    "for th in thresholds:\n",
    "    node = DetectPeakLocallyExclusive(recording=rec_residual_ms5, peak_sign=\"both\", detect_threshold=th,\n",
    "                                      noise_levels=noise_levels)\n",
    "    nodes_ms5.append(node)\n",
    "    node = DetectPeakLocallyExclusive(recording=rec_residual_sc2, peak_sign=\"both\", detect_threshold=th,\n",
    "                                      noise_levels=noise_levels)\n",
    "    nodes_sc2.append(node)"
   ]
  },
  {
   "cell_type": "code",
   "execution_count": null,
   "id": "bcd06647",
   "metadata": {},
   "outputs": [],
   "source": [
    "outs_ms5 = run_node_pipeline(rec_residual_ms5, nodes=nodes_ms5, job_name=\"detect peaks MS5\",\n",
    "                             job_kwargs=dict(n_jobs=0.8, progress_bar=True))\n",
    "outs_sc2 = run_node_pipeline(rec_residual_sc2, nodes=nodes_sc2, job_name=\"detect peaks SC2\",\n",
    "                             job_kwargs=dict(n_jobs=0.8, progress_bar=True))"
   ]
  },
  {
   "cell_type": "code",
   "execution_count": null,
   "id": "a5852f8f",
   "metadata": {},
   "outputs": [],
   "source": [
    "plt.figure()\n",
    "\n",
    "n_detected_ms5 = [len(d) for d in outs_ms5]\n",
    "n_detected_sc2 = [len(d) for d in outs_sc2]\n",
    "\n",
    "plt.plot(thresholds, n_detected_ms5, label=\"MS5\")\n",
    "plt.plot(thresholds, n_detected_sc2, label=\"SC2\")\n",
    "\n",
    "plt.legend()"
   ]
  },
  {
   "cell_type": "code",
   "execution_count": null,
   "id": "b5c5f1bd",
   "metadata": {},
   "outputs": [],
   "source": []
  }
 ],
 "metadata": {
  "kernelspec": {
   "display_name": "Python 3 (ipykernel)",
   "language": "python",
   "name": "python3"
  },
  "language_info": {
   "codemirror_mode": {
    "name": "ipython",
    "version": 3
   },
   "file_extension": ".py",
   "mimetype": "text/x-python",
   "name": "python",
   "nbconvert_exporter": "python",
   "pygments_lexer": "ipython3",
   "version": "3.10.12"
  }
 },
 "nbformat": 4,
 "nbformat_minor": 5
}
